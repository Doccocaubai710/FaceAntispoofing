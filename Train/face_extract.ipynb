{
 "cells": [
  {
   "cell_type": "code",
   "execution_count": 1,
   "metadata": {},
   "outputs": [],
   "source": [
    "import cv2\n",
    "import numpy as np\n",
    "from PIL import Image\n",
    "import cvzone\n",
    "from cvzone.FaceDetectionModule import FaceDetector"
   ]
  },
  {
   "cell_type": "code",
   "execution_count": 2,
   "metadata": {},
   "outputs": [],
   "source": [
    "import os"
   ]
  },
  {
   "cell_type": "code",
   "execution_count": 4,
   "metadata": {},
   "outputs": [],
   "source": [
    "detector=FaceDetector(minDetectionCon=0.5, modelSelection=0)"
   ]
  },
  {
   "cell_type": "code",
   "execution_count": 5,
   "metadata": {},
   "outputs": [
    {
     "name": "stderr",
     "output_type": "stream",
     "text": [
      "d:\\SETUP\\lib\\site-packages\\google\\protobuf\\symbol_database.py:78: UserWarning: SymbolDatabase.GetPrototype() is deprecated. Please use message_factory.GetMessageClass() instead. SymbolDatabase.GetPrototype() will be removed soon.\n",
      "  warnings.warn('SymbolDatabase.GetPrototype() is deprecated. Please '\n"
     ]
    },
    {
     "ename": "",
     "evalue": "",
     "output_type": "error",
     "traceback": [
      "\u001b[1;31mThe Kernel crashed while executing code in the current cell or a previous cell. \n",
      "\u001b[1;31mPlease review the code in the cell(s) to identify a possible cause of the failure. \n",
      "\u001b[1;31mClick <a href='https://aka.ms/vscodeJupyterKernelCrash'>here</a> for more info. \n",
      "\u001b[1;31mView Jupyter <a href='command:jupyter.viewOutput'>log</a> for further details."
     ]
    }
   ],
   "source": [
    "img_path=\"E:\\ZaloDataset\\\\nam\\\\0_0.jpg\"\n",
    "image=cv2.imread(img_path)\n",
    "image=cv2.cvtColor(image,cv2.COLOR_BGR2RGB)\n",
    "img,bboxes=detector.findFaces(image,draw=False)\n",
    "if bboxes:\n",
    "    for bbox in bboxes:\n",
    "        center = bbox[\"center\"]\n",
    "        x, y, w, h = bbox['bbox']\n",
    "        face_image=img[y:y+h,x:x+w]\n",
    "        cv2.imshow(\"haha\",face_image)\n",
    "        "
   ]
  },
  {
   "cell_type": "code",
   "execution_count": null,
   "metadata": {},
   "outputs": [],
   "source": [
    "from tqdm import tqdm\n",
    "def process_and_save_images(img_dir,out_dir):\n",
    "    files=os.listdir(img_dir)\n",
    "    for filename in tqdm(files):\n",
    "        img_path=os.path.join(img_dir,filename)\n",
    "        image=cv2.imread(img_path)\n",
    "        image=cv2.cvtColor(image,cv2.COLOR_BGR2RGB)\n",
    "        img,bboxes=detector.findFaces(image,draw=False)\n",
    "        if bboxes:\n",
    "            for bbox in bboxes:\n",
    "                center = bbox[\"center\"]\n",
    "                x, y, w, h = bbox['bbox']\n",
    "                face_image=img[y:y+h,x:x+w]\n",
    "                "
   ]
  }
 ],
 "metadata": {
  "kernelspec": {
   "display_name": "Python 3",
   "language": "python",
   "name": "python3"
  },
  "language_info": {
   "codemirror_mode": {
    "name": "ipython",
    "version": 3
   },
   "file_extension": ".py",
   "mimetype": "text/x-python",
   "name": "python",
   "nbconvert_exporter": "python",
   "pygments_lexer": "ipython3",
   "version": "3.10.5"
  }
 },
 "nbformat": 4,
 "nbformat_minor": 2
}
